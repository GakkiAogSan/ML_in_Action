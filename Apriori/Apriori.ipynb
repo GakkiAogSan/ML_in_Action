{
 "cells": [
  {
   "cell_type": "markdown",
   "metadata": {},
   "source": [
    "# This is a Apriori code to association analysis!"
   ]
  },
  {
   "cell_type": "code",
   "execution_count": 1,
   "metadata": {
    "collapsed": false
   },
   "outputs": [
    {
     "name": "stdout",
     "output_type": "stream",
     "text": [
      "[[1, 3, 4], [2, 3, 5], [1, 2, 3, 5], [2, 5]]\n"
     ]
    }
   ],
   "source": [
    "import Apriori\n",
    "dataSet = Apriori.loadDataSet()\n",
    "print dataSet"
   ]
  },
  {
   "cell_type": "code",
   "execution_count": 2,
   "metadata": {
    "collapsed": false
   },
   "outputs": [
    {
     "name": "stdout",
     "output_type": "stream",
     "text": [
      "[frozenset([1]), frozenset([2]), frozenset([3]), frozenset([4]), frozenset([5])]\n"
     ]
    }
   ],
   "source": [
    "C1 = Apriori.createC1(dataSet)\n",
    "print C1"
   ]
  },
  {
   "cell_type": "code",
   "execution_count": 3,
   "metadata": {
    "collapsed": false
   },
   "outputs": [
    {
     "name": "stdout",
     "output_type": "stream",
     "text": [
      "[set([1, 3, 4]), set([2, 3, 5]), set([1, 2, 3, 5]), set([2, 5])]\n"
     ]
    }
   ],
   "source": [
    "D = map(set, dataSet)\n",
    "print D"
   ]
  },
  {
   "cell_type": "code",
   "execution_count": 4,
   "metadata": {
    "collapsed": false
   },
   "outputs": [
    {
     "name": "stdout",
     "output_type": "stream",
     "text": [
      "[frozenset([1]), frozenset([3]), frozenset([2]), frozenset([5])]\n"
     ]
    }
   ],
   "source": [
    "L1, suppDatao = Apriori.scanD(D, C1, 0.5)\n",
    "print L1"
   ]
  },
  {
   "cell_type": "code",
   "execution_count": 13,
   "metadata": {
    "collapsed": false,
    "scrolled": false
   },
   "outputs": [
    {
     "name": "stdout",
     "output_type": "stream",
     "text": [
      "[[frozenset([3]), frozenset([2]), frozenset([5])], [frozenset([2, 5])], []]\n"
     ]
    }
   ],
   "source": [
    "reload (Apriori)\n",
    "L, suppData = Apriori.apriori(dataSet, minSupport=0.7)\n",
    "print L"
   ]
  },
  {
   "cell_type": "code",
   "execution_count": 14,
   "metadata": {
    "collapsed": false
   },
   "outputs": [
    {
     "name": "stdout",
     "output_type": "stream",
     "text": [
      "frozenset([1]) --> frozenset([3]) conf: 1.0\n",
      "frozenset([5]) --> frozenset([2]) conf: 1.0\n",
      "frozenset([2]) --> frozenset([5]) conf: 1.0\n",
      "[(frozenset([1]), frozenset([3]), 1.0), (frozenset([5]), frozenset([2]), 1.0), (frozenset([2]), frozenset([5]), 1.0)]\n"
     ]
    }
   ],
   "source": [
    "#associate rules\n",
    "reload (Apriori)\n",
    "L, suppData = Apriori.apriori(dataSet, minSupport=0.5)\n",
    "rules = Apriori.generateRules(L,suppData,minConf=0.7)\n",
    "print rules"
   ]
  },
  {
   "cell_type": "code",
   "execution_count": 15,
   "metadata": {
    "collapsed": false
   },
   "outputs": [
    {
     "name": "stdout",
     "output_type": "stream",
     "text": [
      "frozenset([3]) --> frozenset([1]) conf: 0.666666666667\n",
      "frozenset([1]) --> frozenset([3]) conf: 1.0\n",
      "frozenset([5]) --> frozenset([2]) conf: 1.0\n",
      "frozenset([2]) --> frozenset([5]) conf: 1.0\n",
      "frozenset([3]) --> frozenset([2]) conf: 0.666666666667\n",
      "frozenset([2]) --> frozenset([3]) conf: 0.666666666667\n",
      "frozenset([5]) --> frozenset([3]) conf: 0.666666666667\n",
      "frozenset([3]) --> frozenset([5]) conf: 0.666666666667\n",
      "frozenset([5]) --> frozenset([2, 3]) conf: 0.666666666667\n",
      "frozenset([3]) --> frozenset([2, 5]) conf: 0.666666666667\n",
      "frozenset([2]) --> frozenset([3, 5]) conf: 0.666666666667\n",
      "[(frozenset([3]), frozenset([1]), 0.6666666666666666), (frozenset([1]), frozenset([3]), 1.0), (frozenset([5]), frozenset([2]), 1.0), (frozenset([2]), frozenset([5]), 1.0), (frozenset([3]), frozenset([2]), 0.6666666666666666), (frozenset([2]), frozenset([3]), 0.6666666666666666), (frozenset([5]), frozenset([3]), 0.6666666666666666), (frozenset([3]), frozenset([5]), 0.6666666666666666), (frozenset([5]), frozenset([2, 3]), 0.6666666666666666), (frozenset([3]), frozenset([2, 5]), 0.6666666666666666), (frozenset([2]), frozenset([3, 5]), 0.6666666666666666)]\n"
     ]
    }
   ],
   "source": [
    "rules = Apriori.generateRules(L,suppData,minConf=0.5)\n",
    "print rules"
   ]
  },
  {
   "cell_type": "code",
   "execution_count": 18,
   "metadata": {
    "collapsed": false
   },
   "outputs": [
    {
     "name": "stdout",
     "output_type": "stream",
     "text": [
      "frozenset(['2', '59'])\n",
      "frozenset(['39', '2'])\n",
      "frozenset(['2', '67'])\n",
      "frozenset(['2', '34'])\n",
      "frozenset(['2', '23'])\n",
      "frozenset(['2', '86'])\n",
      "frozenset(['76', '2'])\n",
      "frozenset(['90', '2'])\n",
      "frozenset(['2', '53'])\n",
      "frozenset(['93', '2'])\n",
      "frozenset(['63', '2'])\n",
      "frozenset(['2', '28'])\n",
      "frozenset(['2', '85'])\n",
      "frozenset(['2', '36'])\n"
     ]
    }
   ],
   "source": [
    "#example for mushroom\n",
    "reload (Apriori)\n",
    "mushDatSet = [line.split() for line in open('mushroom.dat').readlines()]\n",
    "L, suppData = Apriori.apriori(mushDatSet, minSupport = 0.3)\n",
    "for item in L[1]:\n",
    "    if item.intersection('2'): print item"
   ]
  },
  {
   "cell_type": "code",
   "execution_count": 19,
   "metadata": {
    "collapsed": false
   },
   "outputs": [
    {
     "name": "stdout",
     "output_type": "stream",
     "text": [
      "frozenset(['90', '2', '23'])\n",
      "frozenset(['39', '2', '53'])\n",
      "frozenset(['2', '59', '34'])\n",
      "frozenset(['2', '53', '85'])\n",
      "frozenset(['23', '2', '34'])\n",
      "frozenset(['2', '53', '34'])\n",
      "frozenset(['93', '2', '86'])\n",
      "frozenset(['39', '2', '59'])\n",
      "frozenset(['2', '59', '36'])\n",
      "frozenset(['39', '2', '36'])\n",
      "frozenset(['2', '28', '53'])\n",
      "frozenset(['86', '2', '59'])\n",
      "frozenset(['90', '2', '59'])\n",
      "frozenset(['2', '93', '63'])\n",
      "frozenset(['90', '39', '2'])\n",
      "frozenset(['39', '2', '93'])\n",
      "frozenset(['76', '2', '34'])\n",
      "frozenset(['39', '2', '85'])\n",
      "frozenset(['2', '85', '67'])\n",
      "frozenset(['63', '90', '2'])\n",
      "frozenset(['93', '2', '36'])\n",
      "frozenset(['2', '63', '34'])\n",
      "frozenset(['2', '86', '23'])\n",
      "frozenset(['2', '59', '23'])\n",
      "frozenset(['39', '2', '67'])\n",
      "frozenset(['63', '39', '2'])\n",
      "frozenset(['2', '28', '85'])\n",
      "frozenset(['28', '2', '59'])\n",
      "frozenset(['2', '63', '23'])\n",
      "frozenset(['2', '86', '53'])\n",
      "frozenset(['2', '63', '85'])\n",
      "frozenset(['2', '36', '34'])\n",
      "frozenset(['2', '86', '67'])\n",
      "frozenset(['28', '2', '86'])\n",
      "frozenset(['93', '2', '85'])\n",
      "frozenset(['2', '85', '34'])\n",
      "frozenset(['76', '2', '86'])\n",
      "frozenset(['2', '28', '34'])\n",
      "frozenset(['39', '2', '34'])\n",
      "frozenset(['2', '86', '85'])\n",
      "frozenset(['2', '63', '28'])\n",
      "frozenset(['2', '63', '36'])\n",
      "frozenset(['2', '63', '59'])\n",
      "frozenset(['90', '2', '86'])\n",
      "frozenset(['39', '2', '86'])\n",
      "frozenset(['90', '2', '36'])\n",
      "frozenset(['90', '2', '28'])\n",
      "frozenset(['2', '86', '34'])\n",
      "frozenset(['93', '2', '23'])\n",
      "frozenset(['76', '39', '2'])\n",
      "frozenset(['93', '2', '59'])\n",
      "frozenset(['2', '86', '36'])\n",
      "frozenset(['90', '2', '53'])\n",
      "frozenset(['76', '2', '85'])\n",
      "frozenset(['93', '2', '34'])\n",
      "frozenset(['2', '36', '23'])\n",
      "frozenset(['34', '2', '67'])\n",
      "frozenset(['90', '93', '2'])\n",
      "frozenset(['2', '85', '23'])\n",
      "frozenset(['90', '2', '85'])\n",
      "frozenset(['2', '63', '86'])\n",
      "frozenset(['39', '2', '28'])\n",
      "frozenset(['39', '2', '23'])\n",
      "frozenset(['2', '36', '85'])\n",
      "frozenset(['90', '2', '34'])\n",
      "frozenset(['2', '59', '85'])\n"
     ]
    }
   ],
   "source": [
    "for item in L[2]:\n",
    "    if item.intersection('2'): print item"
   ]
  },
  {
   "cell_type": "code",
   "execution_count": null,
   "metadata": {
    "collapsed": true
   },
   "outputs": [],
   "source": []
  }
 ],
 "metadata": {
  "kernelspec": {
   "display_name": "Python 2",
   "language": "python",
   "name": "python2"
  },
  "language_info": {
   "codemirror_mode": {
    "name": "ipython",
    "version": 2
   },
   "file_extension": ".py",
   "mimetype": "text/x-python",
   "name": "python",
   "nbconvert_exporter": "python",
   "pygments_lexer": "ipython2",
   "version": "2.7.12"
  }
 },
 "nbformat": 4,
 "nbformat_minor": 2
}
