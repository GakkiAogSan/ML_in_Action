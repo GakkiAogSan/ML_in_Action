{
 "cells": [
  {
   "cell_type": "markdown",
   "metadata": {},
   "source": [
    "# This is a K-Means Code!"
   ]
  },
  {
   "cell_type": "code",
   "execution_count": 2,
   "metadata": {
    "collapsed": false
   },
   "outputs": [
    {
     "name": "stdout",
     "output_type": "stream",
     "text": [
      "[[-5.379713]]\n",
      "[[-4.232586]]\n",
      "[[ 5.1904]]\n",
      "[[ 4.838138]]\n",
      "[[ 2.13958458  1.22169728]\n",
      " [-1.74295078  3.28380584]]\n",
      "5.18463281668\n"
     ]
    }
   ],
   "source": [
    "import Kmeans\n",
    "from numpy import *\n",
    "\n",
    "datMat = mat(Kmeans.loadDataSet('testSet.txt'))\n",
    "print min(datMat[:,0])\n",
    "print min(datMat[:,1])\n",
    "print max(datMat[:,1])\n",
    "print max(datMat[:,0])\n",
    "print Kmeans.randCent(datMat,2)\n",
    "print Kmeans.distEclud(datMat[0],datMat[1])"
   ]
  },
  {
   "cell_type": "code",
   "execution_count": 3,
   "metadata": {
    "collapsed": false
   },
   "outputs": [
    {
     "name": "stdout",
     "output_type": "stream",
     "text": [
      "[[-4.68349759  0.58160941]\n",
      " [ 4.70854801 -0.43845139]\n",
      " [ 3.88164781  3.0197621 ]\n",
      " [-0.63540183  0.77103717]]\n",
      "[[-3.54688723 -1.17529373]\n",
      " [ 3.23113972 -2.53879733]\n",
      " [ 2.63121172  3.22904667]\n",
      " [-1.19957306  1.24873583]]\n",
      "[[-3.53973889 -2.89384326]\n",
      " [ 2.7481024  -2.90572575]\n",
      " [ 2.6265299   3.10868015]\n",
      " [-2.31079352  2.63181095]]\n",
      "[[-3.53973889 -2.89384326]\n",
      " [ 2.65077367 -2.79019029]\n",
      " [ 2.6265299   3.10868015]\n",
      " [-2.46154315  2.78737555]]\n"
     ]
    }
   ],
   "source": [
    "reload (Kmeans)\n",
    "datMat = mat(Kmeans.loadDataSet('testSet.txt'))\n",
    "myCentroids, clustAssing = Kmeans.kMeans(datMat,4)"
   ]
  },
  {
   "cell_type": "code",
   "execution_count": 6,
   "metadata": {
    "collapsed": false
   },
   "outputs": [
    {
     "name": "stdout",
     "output_type": "stream",
     "text": [
      "[[-4.64015878 -0.74805633]\n",
      " [ 2.12192469  1.57012962]]\n",
      "[[-2.20470057  0.31918843]\n",
      " [ 1.63338284  2.01820409]]\n",
      "[[-1.73028592  0.20133246]\n",
      " [ 2.76275171  3.12704005]]\n",
      "[[-1.70351595  0.27408125]\n",
      " [ 2.93386365  3.12782785]]\n",
      "sseSplit, and notSplit:  541.297629265 0.0\n",
      "the bestCentToSplit is:  0\n",
      "the len of bestClustAss is:  60\n",
      "[[-0.68808166 -0.95170621]\n",
      " [-1.13608179 -1.65023121]]\n",
      "[[-2.75443491  2.91787532]\n",
      " [-0.41905944 -2.95722261]]\n",
      "[[-2.94737575  3.3263781 ]\n",
      " [-0.45965615 -2.7782156 ]]\n",
      "sseSplit, and notSplit:  67.2202000798 39.5292986821\n",
      "[[ 2.49205663  4.05229722]\n",
      " [ 4.21313336  4.09754708]]\n",
      "[[ 2.31104362  3.089897  ]\n",
      " [ 4.09052943  3.19827086]]\n",
      "[[ 2.23070108  3.10092283]\n",
      " [ 3.9886075   3.16818538]]\n",
      "sseSplit, and notSplit:  24.6744544296 501.768330583\n",
      "the bestCentToSplit is:  0\n",
      "the len of bestClustAss is:  40\n",
      "[[-2.94737575  3.3263781 ]\n",
      " [ 2.93386365  3.12782785]\n",
      " [-0.45965615 -2.7782156 ]]\n"
     ]
    }
   ],
   "source": [
    "#bisecting k-means\n",
    "reload (Kmeans)\n",
    "datMat3 = mat(Kmeans.loadDataSet('testSet2.txt'))\n",
    "centList,myNewAssments = Kmeans.biKmeans(datMat3,3)\n",
    "print centList"
   ]
  },
  {
   "cell_type": "code",
   "execution_count": null,
   "metadata": {
    "collapsed": true
   },
   "outputs": [],
   "source": [
    "#cluster for map"
   ]
  }
 ],
 "metadata": {
  "kernelspec": {
   "display_name": "Python 2",
   "language": "python",
   "name": "python2"
  },
  "language_info": {
   "codemirror_mode": {
    "name": "ipython",
    "version": 2
   },
   "file_extension": ".py",
   "mimetype": "text/x-python",
   "name": "python",
   "nbconvert_exporter": "python",
   "pygments_lexer": "ipython2",
   "version": "2.7.12"
  }
 },
 "nbformat": 4,
 "nbformat_minor": 2
}
