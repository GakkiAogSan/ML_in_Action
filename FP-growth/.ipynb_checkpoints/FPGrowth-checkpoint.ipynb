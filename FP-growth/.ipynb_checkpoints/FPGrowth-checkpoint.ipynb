{
 "cells": [
  {
   "cell_type": "markdown",
   "metadata": {},
   "source": [
    "# This is a FP-growth code!"
   ]
  },
  {
   "cell_type": "code",
   "execution_count": 2,
   "metadata": {
    "collapsed": false
   },
   "outputs": [
    {
     "name": "stdout",
     "output_type": "stream",
     "text": [
      "   pyramid   9\n",
      "     eye   13\n"
     ]
    }
   ],
   "source": [
    "import FPGrowth\n",
    "rootNode = FPGrowth.treeNode('pyramid',9,None)\n",
    "rootNode.children['eye']=FPGrowth.treeNode('eye',13,None)\n",
    "rootNode.disp()"
   ]
  },
  {
   "cell_type": "code",
   "execution_count": 4,
   "metadata": {
    "collapsed": false
   },
   "outputs": [
    {
     "name": "stdout",
     "output_type": "stream",
     "text": [
      "   pyramid   9\n",
      "     eye   13\n",
      "     phoenix   3\n"
     ]
    }
   ],
   "source": [
    "rootNode.children['phoenix'] = FPGrowth.treeNode('phoenix',3,None)\n",
    "rootNode.disp()"
   ]
  },
  {
   "cell_type": "code",
   "execution_count": 5,
   "metadata": {
    "collapsed": false
   },
   "outputs": [
    {
     "name": "stdout",
     "output_type": "stream",
     "text": [
      "[['r', 'z', 'h', 'j', 'p'], ['z', 'y', 'x', 'w', 'v', 'u', 't', 's'], ['z'], ['r', 'x', 'n', 'o', 's'], ['y', 'r', 'x', 'z', 'q', 't', 'p'], ['y', 'z', 'x', 'e', 'q', 's', 't', 'm']]\n"
     ]
    }
   ],
   "source": [
    "reload (FPGrowth)\n",
    "simpDat = FPGrowth.loadSimpDat()\n",
    "print simpDat"
   ]
  },
  {
   "cell_type": "code",
   "execution_count": 6,
   "metadata": {
    "collapsed": false
   },
   "outputs": [
    {
     "name": "stdout",
     "output_type": "stream",
     "text": [
      "{frozenset(['e', 'm', 'q', 's', 't', 'y', 'x', 'z']): 1, frozenset(['x', 's', 'r', 'o', 'n']): 1, frozenset(['s', 'u', 't', 'w', 'v', 'y', 'x', 'z']): 1, frozenset(['q', 'p', 'r', 't', 'y', 'x', 'z']): 1, frozenset(['h', 'r', 'z', 'p', 'j']): 1, frozenset(['z']): 1}\n"
     ]
    }
   ],
   "source": [
    "initSet = FPGrowth.createInitSet(simpDat)\n",
    "print initSet"
   ]
  },
  {
   "cell_type": "code",
   "execution_count": 7,
   "metadata": {
    "collapsed": false
   },
   "outputs": [
    {
     "name": "stdout",
     "output_type": "stream",
     "text": [
      "   Null Set   1\n",
      "     x   1\n",
      "       s   1\n",
      "         r   1\n",
      "     z   5\n",
      "       x   3\n",
      "         y   3\n",
      "           s   2\n",
      "             t   2\n",
      "           r   1\n",
      "             t   1\n",
      "       r   1\n"
     ]
    }
   ],
   "source": [
    "myFPtree, myHeaderTab = FPGrowth.createTree(initSet,3)\n",
    "myFPtree.disp()"
   ]
  },
  {
   "cell_type": "code",
   "execution_count": 27,
   "metadata": {
    "collapsed": false
   },
   "outputs": [
    {
     "name": "stdout",
     "output_type": "stream",
     "text": [
      "{frozenset(['z']): 3}\n",
      "{}\n",
      "{frozenset(['x', 's']): 1, frozenset(['z']): 1, frozenset(['y', 'x', 'z']): 1}\n"
     ]
    }
   ],
   "source": [
    "#conditional pattern base\n",
    "reload (FPGrowth)\n",
    "print FPGrowth.findPrefixPath('x',myHeaderTab['x'][1])\n",
    "print FPGrowth.findPrefixPath('z',myHeaderTab['z'][1])\n",
    "print FPGrowth.findPrefixPath('r',myHeaderTab['r'][1])"
   ]
  },
  {
   "cell_type": "code",
   "execution_count": 30,
   "metadata": {
    "collapsed": false
   },
   "outputs": [
    {
     "name": "stdout",
     "output_type": "stream",
     "text": [
      "conditional tree for:  set(['y'])\n",
      "   Null Set   1\n",
      "     x   3\n",
      "       z   3\n",
      "conditional tree for:  set(['y', 'z'])\n",
      "   Null Set   1\n",
      "     x   3\n",
      "conditional tree for:  set(['s'])\n",
      "   Null Set   1\n",
      "     x   3\n",
      "conditional tree for:  set(['t'])\n",
      "   Null Set   1\n",
      "     y   3\n",
      "       x   3\n",
      "         z   3\n",
      "conditional tree for:  set(['z', 't'])\n",
      "   Null Set   1\n",
      "     y   3\n",
      "       x   3\n",
      "conditional tree for:  set(['x', 'z', 't'])\n",
      "   Null Set   1\n",
      "     y   3\n",
      "conditional tree for:  set(['x', 't'])\n",
      "   Null Set   1\n",
      "     y   3\n",
      "conditional tree for:  set(['x'])\n",
      "   Null Set   1\n",
      "     z   3\n"
     ]
    }
   ],
   "source": [
    "reload (FPGrowth)\n",
    "freqItems = []\n",
    "FPGrowth.mineTree(myFPtree,myHeaderTab,3,set([]),freqItems)"
   ]
  },
  {
   "cell_type": "code",
   "execution_count": 31,
   "metadata": {
    "collapsed": false
   },
   "outputs": [
    {
     "name": "stdout",
     "output_type": "stream",
     "text": [
      "[set(['y']), set(['y', 'z']), set(['y', 'x', 'z']), set(['y', 'x']), set(['s']), set(['x', 's']), set(['t']), set(['z', 't']), set(['x', 'z', 't']), set(['y', 'x', 'z', 't']), set(['y', 'z', 't']), set(['x', 't']), set(['y', 'x', 't']), set(['y', 't']), set(['r']), set(['x']), set(['x', 'z']), set(['z'])]\n"
     ]
    }
   ],
   "source": [
    "print freqItems"
   ]
  },
  {
   "cell_type": "code",
   "execution_count": null,
   "metadata": {
    "collapsed": true
   },
   "outputs": [],
   "source": [
    "#example for news web\n",
    "parsedDat = [line.split() for line in open('kosarak.dat').readlines()]\n",
    "initSet = FPGrowth.createInitSet(parsedDat)\n",
    "myFPtree, myHeaderTab = FPGrowth.createTree(initSet,100000)\n",
    "myFreqList = []\n",
    "FPGrowth.mineTree(myFPtree, myHeaderTab, 100000, set([]), myFreqList)"
   ]
  }
 ],
 "metadata": {
  "kernelspec": {
   "display_name": "Python 2",
   "language": "python",
   "name": "python2"
  },
  "language_info": {
   "codemirror_mode": {
    "name": "ipython",
    "version": 2
   },
   "file_extension": ".py",
   "mimetype": "text/x-python",
   "name": "python",
   "nbconvert_exporter": "python",
   "pygments_lexer": "ipython2",
   "version": "2.7.12"
  }
 },
 "nbformat": 4,
 "nbformat_minor": 2
}
