{
 "cells": [
  {
   "cell_type": "markdown",
   "metadata": {},
   "source": [
    "# This is a AdaBoost code！"
   ]
  },
  {
   "cell_type": "code",
   "execution_count": 3,
   "metadata": {
    "collapsed": true
   },
   "outputs": [],
   "source": [
    "import AdaBoost\n",
    "from numpy import *\n",
    "datMat, classLabels = AdaBoost.loadSimpData()"
   ]
  },
  {
   "cell_type": "code",
   "execution_count": 5,
   "metadata": {
    "collapsed": false
   },
   "outputs": [
    {
     "name": "stdout",
     "output_type": "stream",
     "text": [
      "split: dim 0, thresh 0.90, thresh ineqal: lt, the weighted error is 0.400\n",
      "split: dim 0, thresh 0.90, thresh ineqal: gt, the weighted error is 0.600\n",
      "split: dim 0, thresh 1.00, thresh ineqal: lt, the weighted error is 0.400\n",
      "split: dim 0, thresh 1.00, thresh ineqal: gt, the weighted error is 0.600\n",
      "split: dim 0, thresh 1.10, thresh ineqal: lt, the weighted error is 0.400\n",
      "split: dim 0, thresh 1.10, thresh ineqal: gt, the weighted error is 0.600\n",
      "split: dim 0, thresh 1.20, thresh ineqal: lt, the weighted error is 0.400\n",
      "split: dim 0, thresh 1.20, thresh ineqal: gt, the weighted error is 0.600\n",
      "split: dim 0, thresh 1.30, thresh ineqal: lt, the weighted error is 0.200\n",
      "split: dim 0, thresh 1.30, thresh ineqal: gt, the weighted error is 0.800\n",
      "split: dim 0, thresh 1.40, thresh ineqal: lt, the weighted error is 0.200\n",
      "split: dim 0, thresh 1.40, thresh ineqal: gt, the weighted error is 0.800\n",
      "split: dim 0, thresh 1.50, thresh ineqal: lt, the weighted error is 0.200\n",
      "split: dim 0, thresh 1.50, thresh ineqal: gt, the weighted error is 0.800\n",
      "split: dim 0, thresh 1.60, thresh ineqal: lt, the weighted error is 0.200\n",
      "split: dim 0, thresh 1.60, thresh ineqal: gt, the weighted error is 0.800\n",
      "split: dim 0, thresh 1.70, thresh ineqal: lt, the weighted error is 0.200\n",
      "split: dim 0, thresh 1.70, thresh ineqal: gt, the weighted error is 0.800\n",
      "split: dim 0, thresh 1.80, thresh ineqal: lt, the weighted error is 0.200\n",
      "split: dim 0, thresh 1.80, thresh ineqal: gt, the weighted error is 0.800\n",
      "split: dim 0, thresh 1.90, thresh ineqal: lt, the weighted error is 0.200\n",
      "split: dim 0, thresh 1.90, thresh ineqal: gt, the weighted error is 0.800\n",
      "split: dim 0, thresh 2.00, thresh ineqal: lt, the weighted error is 0.600\n",
      "split: dim 0, thresh 2.00, thresh ineqal: gt, the weighted error is 0.400\n",
      "split: dim 1, thresh 0.89, thresh ineqal: lt, the weighted error is 0.400\n",
      "split: dim 1, thresh 0.89, thresh ineqal: gt, the weighted error is 0.600\n",
      "split: dim 1, thresh 1.00, thresh ineqal: lt, the weighted error is 0.200\n",
      "split: dim 1, thresh 1.00, thresh ineqal: gt, the weighted error is 0.800\n",
      "split: dim 1, thresh 1.11, thresh ineqal: lt, the weighted error is 0.400\n",
      "split: dim 1, thresh 1.11, thresh ineqal: gt, the weighted error is 0.600\n",
      "split: dim 1, thresh 1.22, thresh ineqal: lt, the weighted error is 0.400\n",
      "split: dim 1, thresh 1.22, thresh ineqal: gt, the weighted error is 0.600\n",
      "split: dim 1, thresh 1.33, thresh ineqal: lt, the weighted error is 0.400\n",
      "split: dim 1, thresh 1.33, thresh ineqal: gt, the weighted error is 0.600\n",
      "split: dim 1, thresh 1.44, thresh ineqal: lt, the weighted error is 0.400\n",
      "split: dim 1, thresh 1.44, thresh ineqal: gt, the weighted error is 0.600\n",
      "split: dim 1, thresh 1.55, thresh ineqal: lt, the weighted error is 0.400\n",
      "split: dim 1, thresh 1.55, thresh ineqal: gt, the weighted error is 0.600\n",
      "split: dim 1, thresh 1.66, thresh ineqal: lt, the weighted error is 0.400\n",
      "split: dim 1, thresh 1.66, thresh ineqal: gt, the weighted error is 0.600\n",
      "split: dim 1, thresh 1.77, thresh ineqal: lt, the weighted error is 0.400\n",
      "split: dim 1, thresh 1.77, thresh ineqal: gt, the weighted error is 0.600\n",
      "split: dim 1, thresh 1.88, thresh ineqal: lt, the weighted error is 0.400\n",
      "split: dim 1, thresh 1.88, thresh ineqal: gt, the weighted error is 0.600\n",
      "split: dim 1, thresh 1.99, thresh ineqal: lt, the weighted error is 0.400\n",
      "split: dim 1, thresh 1.99, thresh ineqal: gt, the weighted error is 0.600\n",
      "split: dim 1, thresh 2.10, thresh ineqal: lt, the weighted error is 0.600\n",
      "split: dim 1, thresh 2.10, thresh ineqal: gt, the weighted error is 0.400\n"
     ]
    },
    {
     "data": {
      "text/plain": [
       "({'dim': 0, 'ineq': 'lt', 'thresh': 1.3}, matrix([[ 0.2]]), array([[-1.],\n",
       "        [ 1.],\n",
       "        [-1.],\n",
       "        [-1.],\n",
       "        [ 1.]]))"
      ]
     },
     "execution_count": 5,
     "metadata": {},
     "output_type": "execute_result"
    }
   ],
   "source": [
    "#单层决策树生成函数\n",
    "reload (AdaBoost)\n",
    "D = mat(ones((5, 1))/5)\n",
    "AdaBoost.buildStump(datMat, classLabels, D)"
   ]
  },
  {
   "cell_type": "code",
   "execution_count": 8,
   "metadata": {
    "collapsed": false,
    "scrolled": true
   },
   "outputs": [
    {
     "name": "stdout",
     "output_type": "stream",
     "text": [
      "D: [[ 0.2  0.2  0.2  0.2  0.2]]\n",
      "total error:  0.2\n",
      "D: [[ 0.5    0.125  0.125  0.125  0.125]]\n",
      "total error:  0.2\n",
      "D: [[ 0.28571429  0.07142857  0.07142857  0.07142857  0.5       ]]\n",
      "total error:  0.0\n"
     ]
    }
   ],
   "source": [
    "reload (AdaBoost)\n",
    "classifierArray = AdaBoost.adaBoostTrainDS(datMat, classLabels, 9)"
   ]
  },
  {
   "cell_type": "code",
   "execution_count": 27,
   "metadata": {
    "collapsed": false,
    "scrolled": false
   },
   "outputs": [
    {
     "name": "stdout",
     "output_type": "stream",
     "text": [
      "D: [[ 0.2  0.2  0.2  0.2  0.2]]\n",
      "total error:  0.2\n",
      "D: [[ 0.5    0.125  0.125  0.125  0.125]]\n",
      "total error:  0.2\n",
      "D: [[ 0.28571429  0.07142857  0.07142857  0.07142857  0.5       ]]\n",
      "total error:  0.0\n",
      "[[ 0.69314718]\n",
      " [-0.69314718]]\n",
      "[[ 1.66610226]\n",
      " [-1.66610226]]\n"
     ]
    },
    {
     "data": {
      "text/plain": [
       "matrix([[ 1.],\n",
       "        [-1.]])"
      ]
     },
     "execution_count": 27,
     "metadata": {},
     "output_type": "execute_result"
    }
   ],
   "source": [
    "reload (AdaBoost)\n",
    "datArr, labelArr = AdaBoost.loadSimpData()\n",
    "classifierArr = AdaBoost.adaBoostTrainDS(datArr, labelArr, 30)\n",
    "#print classifierArr\n",
    "AdaBoost.adaClassify([[5,5],[0,0]], classifierArr)"
   ]
  },
  {
   "cell_type": "code",
   "execution_count": 30,
   "metadata": {
    "collapsed": false,
    "scrolled": true
   },
   "outputs": [
    {
     "name": "stdout",
     "output_type": "stream",
     "text": [
      "total error:  0.284280936455\n",
      "total error:  0.284280936455\n",
      "total error:  0.247491638796\n",
      "total error:  0.247491638796\n",
      "total error:  0.254180602007\n",
      "total error:  0.240802675585\n",
      "total error:  0.240802675585\n",
      "total error:  0.220735785953\n",
      "total error:  0.247491638796\n",
      "total error:  0.230769230769\n"
     ]
    }
   ],
   "source": [
    "#example of horseColic\n",
    "reload (AdaBoost)\n",
    "datArr, labelArr = AdaBoost.loadDataSet('horseColicTraining2.txt')\n",
    "classifierArray = AdaBoost.adaBoostTrainDS(datArr, labelArr, 10)"
   ]
  },
  {
   "cell_type": "code",
   "execution_count": 31,
   "metadata": {
    "collapsed": false,
    "scrolled": true
   },
   "outputs": [
    {
     "name": "stdout",
     "output_type": "stream",
     "text": [
      "[[ 0.46166238]\n",
      " [ 0.46166238]\n",
      " [-0.46166238]\n",
      " [-0.46166238]\n",
      " [ 0.46166238]\n",
      " [ 0.46166238]\n",
      " [ 0.46166238]\n",
      " [ 0.46166238]\n",
      " [ 0.46166238]\n",
      " [ 0.46166238]\n",
      " [ 0.46166238]\n",
      " [-0.46166238]\n",
      " [-0.46166238]\n",
      " [ 0.46166238]\n",
      " [ 0.46166238]\n",
      " [ 0.46166238]\n",
      " [ 0.46166238]\n",
      " [-0.46166238]\n",
      " [-0.46166238]\n",
      " [-0.46166238]\n",
      " [-0.46166238]\n",
      " [ 0.46166238]\n",
      " [-0.46166238]\n",
      " [-0.46166238]\n",
      " [ 0.46166238]\n",
      " [ 0.46166238]\n",
      " [ 0.46166238]\n",
      " [ 0.46166238]\n",
      " [ 0.46166238]\n",
      " [ 0.46166238]\n",
      " [ 0.46166238]\n",
      " [ 0.46166238]\n",
      " [-0.46166238]\n",
      " [ 0.46166238]\n",
      " [ 0.46166238]\n",
      " [ 0.46166238]\n",
      " [ 0.46166238]\n",
      " [ 0.46166238]\n",
      " [ 0.46166238]\n",
      " [ 0.46166238]\n",
      " [ 0.46166238]\n",
      " [ 0.46166238]\n",
      " [ 0.46166238]\n",
      " [ 0.46166238]\n",
      " [ 0.46166238]\n",
      " [ 0.46166238]\n",
      " [-0.46166238]\n",
      " [ 0.46166238]\n",
      " [-0.46166238]\n",
      " [ 0.46166238]\n",
      " [ 0.46166238]\n",
      " [ 0.46166238]\n",
      " [ 0.46166238]\n",
      " [ 0.46166238]\n",
      " [ 0.46166238]\n",
      " [ 0.46166238]\n",
      " [ 0.46166238]\n",
      " [-0.46166238]\n",
      " [ 0.46166238]\n",
      " [-0.46166238]\n",
      " [ 0.46166238]\n",
      " [ 0.46166238]\n",
      " [-0.46166238]\n",
      " [ 0.46166238]\n",
      " [ 0.46166238]\n",
      " [ 0.46166238]\n",
      " [ 0.46166238]]\n",
      "[[ 0.77414483]\n",
      " [ 0.77414483]\n",
      " [-0.14917993]\n",
      " [-0.14917993]\n",
      " [ 0.77414483]\n",
      " [ 0.77414483]\n",
      " [ 0.14917993]\n",
      " [ 0.77414483]\n",
      " [ 0.77414483]\n",
      " [ 0.14917993]\n",
      " [ 0.14917993]\n",
      " [-0.14917993]\n",
      " [-0.14917993]\n",
      " [ 0.77414483]\n",
      " [ 0.77414483]\n",
      " [ 0.77414483]\n",
      " [ 0.77414483]\n",
      " [-0.14917993]\n",
      " [-0.14917993]\n",
      " [-0.77414483]\n",
      " [-0.14917993]\n",
      " [ 0.77414483]\n",
      " [-0.14917993]\n",
      " [-0.77414483]\n",
      " [ 0.77414483]\n",
      " [ 0.77414483]\n",
      " [ 0.77414483]\n",
      " [ 0.77414483]\n",
      " [ 0.77414483]\n",
      " [ 0.77414483]\n",
      " [ 0.77414483]\n",
      " [ 0.14917993]\n",
      " [-0.14917993]\n",
      " [ 0.77414483]\n",
      " [ 0.77414483]\n",
      " [ 0.77414483]\n",
      " [ 0.77414483]\n",
      " [ 0.77414483]\n",
      " [ 0.77414483]\n",
      " [ 0.77414483]\n",
      " [ 0.77414483]\n",
      " [ 0.77414483]\n",
      " [ 0.77414483]\n",
      " [ 0.14917993]\n",
      " [ 0.14917993]\n",
      " [ 0.77414483]\n",
      " [-0.14917993]\n",
      " [ 0.77414483]\n",
      " [-0.14917993]\n",
      " [ 0.14917993]\n",
      " [ 0.14917993]\n",
      " [ 0.77414483]\n",
      " [ 0.77414483]\n",
      " [ 0.77414483]\n",
      " [ 0.77414483]\n",
      " [ 0.77414483]\n",
      " [ 0.14917993]\n",
      " [-0.14917993]\n",
      " [ 0.77414483]\n",
      " [-0.77414483]\n",
      " [ 0.77414483]\n",
      " [ 0.14917993]\n",
      " [-0.14917993]\n",
      " [ 0.77414483]\n",
      " [ 0.77414483]\n",
      " [ 0.77414483]\n",
      " [ 0.77414483]]\n"
     ]
    }
   ],
   "source": [
    "reload (AdaBoost)\n",
    "testArr, testLabelArr = AdaBoost.loadDataSet('horseColicTest2.txt')\n",
    "prediction10 = AdaBoost.adaClassify(testArr,classifierArray)"
   ]
  },
  {
   "cell_type": "code",
   "execution_count": 32,
   "metadata": {
    "collapsed": false
   },
   "outputs": [
    {
     "data": {
      "text/plain": [
       "18.0"
      ]
     },
     "execution_count": 32,
     "metadata": {},
     "output_type": "execute_result"
    }
   ],
   "source": [
    "errArr = mat(ones((67,1)))\n",
    "errArr[prediction10!=mat(testLabelArr).T].sum()"
   ]
  },
  {
   "cell_type": "code",
   "execution_count": null,
   "metadata": {
    "collapsed": true
   },
   "outputs": [],
   "source": [
    "#test ROC\n",
    "reload (AdaBoost)\n",
    "datArr, labelArr = AdaBoost.loadDataSet('horseColicTraining2.txt')\n",
    "classifierArray, aggClassEst = AdaBoost.adaBoostTrainDS(datArr, labelArr, 10)\n",
    "AdaBoost.plotROC(aggClassEst.T, labelArr)"
   ]
  }
 ],
 "metadata": {
  "kernelspec": {
   "display_name": "Python 2",
   "language": "python",
   "name": "python2"
  },
  "language_info": {
   "codemirror_mode": {
    "name": "ipython",
    "version": 2
   },
   "file_extension": ".py",
   "mimetype": "text/x-python",
   "name": "python",
   "nbconvert_exporter": "python",
   "pygments_lexer": "ipython2",
   "version": "2.7.12"
  }
 },
 "nbformat": 4,
 "nbformat_minor": 2
}
