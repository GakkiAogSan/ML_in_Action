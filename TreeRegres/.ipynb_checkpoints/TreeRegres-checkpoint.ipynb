{
 "cells": [
  {
   "cell_type": "markdown",
   "metadata": {},
   "source": [
    "# This is a Tree Regression code!"
   ]
  },
  {
   "cell_type": "code",
   "execution_count": 8,
   "metadata": {
    "collapsed": false
   },
   "outputs": [
    {
     "name": "stdout",
     "output_type": "stream",
     "text": [
      "[[ 0.  1.  0.  0.]]\n",
      "[[ 1.  0.  0.  0.]]\n"
     ]
    }
   ],
   "source": [
    "#CART\n",
    "from numpy import *\n",
    "import TreeRegres\n",
    "testMat = mat(eye(4))\n",
    "#print testMat\n",
    "mat0, mat1 = TreeRegres.binSplitDataSet(testMat,1,0.5)\n",
    "print mat0\n",
    "print mat1"
   ]
  },
  {
   "cell_type": "code",
   "execution_count": null,
   "metadata": {
    "collapsed": true
   },
   "outputs": [],
   "source": []
  }
 ],
 "metadata": {
  "kernelspec": {
   "display_name": "Python 2",
   "language": "python",
   "name": "python2"
  },
  "language_info": {
   "codemirror_mode": {
    "name": "ipython",
    "version": 2
   },
   "file_extension": ".py",
   "mimetype": "text/x-python",
   "name": "python",
   "nbconvert_exporter": "python",
   "pygments_lexer": "ipython2",
   "version": "2.7.12"
  }
 },
 "nbformat": 4,
 "nbformat_minor": 2
}
